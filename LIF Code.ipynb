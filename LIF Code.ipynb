{
 "cells": [
  {
   "cell_type": "code",
   "execution_count": 1,
   "id": "79eb7583",
   "metadata": {},
   "outputs": [],
   "source": [
    "#Import essential libraries\n",
    "import numpy as np\n",
    "import matplotlib.pyplot as plt\n",
    "\n",
    "# Set simulation parameters\n",
    "Vthresh = -60   #mV\n",
    "Vreset  = -75   #mV\n",
    "Vspike  =  20   #mV\n",
    "Rm      =  10   #MOhms lower Resistance = lower spikes\n",
    "tau     =  10   #ms\n",
    "dt      =  0.05 #ms\n",
    "counter =  0"
   ]
  },
  {
   "cell_type": "code",
   "execution_count": 2,
   "id": "34254d80",
   "metadata": {},
   "outputs": [],
   "source": [
    "# Creates a vector of time points from 0 to 499 ms in steps of dt=0.05\n",
    "timeVector = np.arange(0, 500, dt)\n",
    "\n",
    "# Creates a placeholder for our voltages that is the same size as timeVector\n",
    "voltageVector = np.zeros(len(timeVector))\n",
    "\n",
    "# Creates a placeholder for the external stimulation vector.\n",
    "# It is also the same size as the time vector.\n",
    "stimVector = np.zeros(len(timeVector))"
   ]
  },
  {
   "cell_type": "code",
   "execution_count": 3,
   "id": "e302ddc0",
   "metadata": {},
   "outputs": [],
   "source": [
    "# Set the initial voltage to be equal to the resting potential\n",
    "voltageVector[0] = Vreset"
   ]
  },
  {
   "cell_type": "code",
   "execution_count": 4,
   "id": "a036cc40",
   "metadata": {},
   "outputs": [],
   "source": [
    "#as determined by the problem (given)\n",
    "\n",
    "# Sets the external stimulation to 0.5 nA for the first 100 ms\n",
    "stimVector[0:2000] = 0.5\n",
    "\n",
    "# Sets the external stimulation to 1.3 nA between 125 and 250 ms\n",
    "stimVector[2500:4000]= 1.3\n",
    "\n",
    "# Sets the external stimulation to 2.0 nA between 250 and 350 ms\n",
    "stimVector[5000:7000] = 2.0"
   ]
  },
  {
   "cell_type": "code",
   "execution_count": 5,
   "id": "d0d22d48",
   "metadata": {},
   "outputs": [],
   "source": [
    "# This line initiates the loop. \"S\" counts the number of loops.\n",
    "# We are looping for 1 less than the length of the time vector\n",
    "# because we have already calculated the voltage for the first\n",
    "# iteration.\n",
    "for S in range(len(timeVector)-1):\n",
    "  # Vinf is set to equal the resting potential plus the product\n",
    "  # of the stimulation vector at the Sth time point.\n",
    "  Vinf= Vreset + Rm * stimVector[S]\n",
    "  \n",
    "  # The next voltage value is is equal to where we are going (Vinf)\n",
    "  # plus the product of the different between the present voltage and\n",
    "  # Vinf (how far we have to go) and e^-t/tau (how far we are going\n",
    "  # in each step)\n",
    "  voltageVector[S+1] = Vinf + (voltageVector[S]-Vinf)*np.exp(-dt/tau)\n",
    "  \n",
    "  # This 'if' condition states that if the next voltage is greater than\n",
    "  # or equal to the threshold, then to run the next section\n",
    "  if voltageVector[S+1] >= Vthresh:\n",
    "     # This states that the next voltage vector will be the Vspike value\n",
    "     voltageVector[S+1] = Vspike\n",
    "     \n",
    "     # This 'if' statement checks if we are already at Vspike (this is\n",
    "     # another way we can be above Vthresh)\n",
    "     if voltageVector[S] == Vspike:\n",
    "      \n",
    "        # Set the next voltage equal to the reset value\n",
    "        voltageVector[S+1] = Vreset\n",
    "        \n",
    "        # This will count the number of observed spikes so that spike count\n",
    "        # rate may be calculated later\n",
    "        counter += 1"
   ]
  },
  {
   "cell_type": "code",
   "execution_count": 6,
   "id": "96e8c2eb",
   "metadata": {},
   "outputs": [
    {
     "data": {
      "text/plain": [
       "Text(0.5, 1.0, 'Voltage versus time')"
      ]
     },
     "execution_count": 6,
     "metadata": {},
     "output_type": "execute_result"
    },
    {
     "data": {
      "image/png": "[encoded data removed]",
      "text/plain": [
       "<Figure size 432x288 with 1 Axes>"
      ]
     },
     "metadata": {
      "needs_background": "light"
     },
     "output_type": "display_data"
    }
   ],
   "source": [
    "# This sets the new plot object\n",
    "plt.figure()\n",
    "\n",
    "# This plots the voltage (y-axis) as a function of time (x-axis)\n",
    "plt.plot(timeVector, voltageVector)\n",
    "\n",
    "# This labels the y-axis\n",
    "plt.ylabel('Voltage in mV')\n",
    "\n",
    "# This labels the x-axis\n",
    "plt.xlabel('Time in ms')\n",
    "\n",
    "# This sets the title\n",
    "plt.title('Voltage versus time')"
   ]
  },
  {
   "cell_type": "code",
   "execution_count": 7,
   "id": "fde3aec4",
   "metadata": {},
   "outputs": [],
   "source": [
    "# Begin by setting the default stimulation level to 0\n",
    "stimVector = np.zeros(len(timeVector))\n",
    "\n",
    "# At 0.5 ms, 0.5 nA of current is injected\n",
    "stimVector[timeVector==0.5] = 5\n",
    "\n",
    "# From 50 to 54 ms, 5 nA are injected into the cell\n",
    "tStart = np.where(timeVector==50)[0]\n",
    "tEnd = np.where(timeVector==54)[0]\n",
    "stimVector[tStart[0]:tEnd[0]] = 5\n",
    "\n",
    "# At 150 ms, 15 nA is injected for one time step\n",
    "stimVector[timeVector==150] = 15\n",
    "\n",
    "# From 200-202 ms, the current is held at 15 nA\n",
    "tStart = np.where(timeVector==200)[0]\n",
    "tEnd = np.where(timeVector==202)[0]\n",
    "stimVector[tStart[0]:tEnd[0]] = 15\n",
    "\n",
    "# A pulse of 30 nA at 250 ms\n",
    "stimVector[timeVector==250] = 30\n",
    "\n",
    "# From 300 to 301 ms, the applied current is 30 nA\n",
    "tStart = np.where(timeVector==300)[0]\n",
    "tEnd = np.where(timeVector==301)[0]\n",
    "stimVector[tStart[0]:tEnd[0]] = 30"
   ]
  },
  {
   "cell_type": "code",
   "execution_count": 8,
   "id": "aaaa16ee",
   "metadata": {},
   "outputs": [
    {
     "data": {
      "text/plain": [
       "Text(0, 0.5, 'Membrane potential in mV')"
      ]
     },
     "execution_count": 8,
     "metadata": {},
     "output_type": "execute_result"
    },
    {
     "data": {
      "image/png": "[encoded data removed]",
      "text/plain": [
       "<Figure size 432x288 with 2 Axes>"
      ]
     },
     "metadata": {
      "needs_background": "light"
     },
     "output_type": "display_data"
    }
   ],
   "source": [
    "# This sets the plot object\n",
    "plt.figure()\n",
    "\n",
    "# This defines that we are plotting into the top plot\n",
    "plt.subplot(2,1,1) # two rows, one column, first graph\n",
    "\n",
    "# Plots time on the x-axis and current on the y-axis\n",
    "plt.plot(timeVector, stimVector)\n",
    "\n",
    "# Labels the x-axis\n",
    "plt.xlabel('Time in ms')\n",
    "\n",
    "# Labels the y-axis\n",
    "plt.ylabel('External current in nA')\n",
    "\n",
    "# Titles the plot\n",
    "plt.title('External Stimulation vs Time')\n",
    "\n",
    "# This defines that we are plotting into the top plot\n",
    "plt.subplot(2,1,2) # 2 rows, 1 column, 2nd graph\n",
    "\n",
    "# Plots time on the x-axis and voltage on the y-axis\n",
    "plt.plot(timeVector, voltageVector)\n",
    "\n",
    "# Labels the x-axis\n",
    "plt.xlabel('Time in ms')\n",
    "\n",
    "# Labels the y-axis\n",
    "plt.ylabel('Membrane potential in mV')"
   ]
  },
  {
   "cell_type": "code",
   "execution_count": null,
   "id": "274c5cf6",
   "metadata": {},
   "outputs": [],
   "source": []
  }
 ],
 "metadata": {
  "kernelspec": {
   "display_name": "Python 3 (ipykernel)",
   "language": "python",
   "name": "python3"
  },
  "language_info": {
   "codemirror_mode": {
    "name": "ipython",
    "version": 3
   },
   "file_extension": ".py",
   "mimetype": "text/x-python",
   "name": "python",
   "nbconvert_exporter": "python",
   "pygments_lexer": "ipython3",
   "version": "3.9.12"
  }
 },
 "nbformat": 4,
 "nbformat_minor": 5
}
